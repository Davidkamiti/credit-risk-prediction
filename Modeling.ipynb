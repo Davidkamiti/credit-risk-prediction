{
  "cells": [
    {
      "cell_type": "markdown",
      "metadata": {
        "id": "tmxI1H1Efy_Y"
      },
      "source": [
        "# **Modeling**"
      ]
    },
    {
      "cell_type": "markdown",
      "metadata": {
        "id": "MqhwjkTNgCdH"
      },
      "source": [
        "Doing classification modeling to find the best model with the best performance that can be depolyed and used to predict the risk of customers defaulting their loan"
      ]
    },
    {
      "cell_type": "markdown",
      "metadata": {
        "id": "cF_J1gfSW4KW"
      },
      "source": [
        "This is a classification task and we are going to use classification algorithms to build a model that will have the best performance. the algorithms to use are:\n",
        "\n",
        "\n",
        "1.   logistic Regression\n",
        "2.   Decision Tree\n",
        "\n",
        "1.   K Nearest Neighbor(KNN)\n",
        "2.  Random Forest\n",
        "\n",
        "1.   neural networks\n",
        "2.   List item\n",
        "\n",
        "\n",
        "\n",
        "\n"
      ]
    },
    {
      "cell_type": "code",
      "execution_count": null,
      "metadata": {
        "id": "4g7Ufzcv5gqm"
      },
      "outputs": [],
      "source": [
        "import numpy as np\n",
        "import pandas as pd\n",
        "import seaborn as sns\n",
        "import matplotlib.pyplot as plt\n",
        "#from sklearn.mertic ImportWarning\n",
        "from sklearn.model_selection import train_test_split\n",
        "from sklearn.linear_model import LogisticRegression\n",
        "from sklearn.tree import DecisionTreeClassifier\n",
        "from sklearn.ensemble import RandomForestClassifier\n",
        "from sklearn.svm import SVC\n",
        "from sklearn.neighbors import KNeighborsClassifier\n",
        "from sklearn.ensemble import GradientBoostingClassifier\n",
        "from sklearn.ensemble import GradientBoostingClassifier\n",
        "from sklearn.naive_bayes import GaussianNB\n",
        "\n",
        "from sklearn.metrics import confusion_matrix,classification_report\n",
        "from sklearn.metrics import accuracy_score, classification_report, confusion_matrix, roc_auc_score, roc_curve, auc\n",
        "from sklearn.preprocessing import StandardScaler\n",
        "from sklearn.model_selection import GridSearchCV\n",
        "from imblearn.over_sampling import SMOTE\n",
        "\n",
        "import warnings\n",
        "warnings.filterwarnings('ignore')\n",
        "\n",
        "\n",
        "\n"
      ]
    },
    {
      "cell_type": "code",
      "execution_count": null,
      "metadata": {
        "id": "_Cw0yA1nDstT"
      },
      "outputs": [],
      "source": [
        "# Load the ml data from the CSV file\n",
        "df = pd.read_csv('/content/ml_data.csv')"
      ]
    },
    {
      "cell_type": "code",
      "execution_count": null,
      "metadata": {
        "colab": {
          "base_uri": "https://localhost:8080/",
          "height": 226
        },
        "id": "ZV26bzmdO_yH",
        "outputId": "6e42abe9-1cea-45e3-a6db-296220e98bac"
      },
      "outputs": [
        {
          "output_type": "execute_result",
          "data": {
            "text/plain": [
              "   person_age  person_income  person_home_ownership  person_emp_length  \\\n",
              "0          21           9600                      2                  5   \n",
              "1          25           9600                      0                  1   \n",
              "2          23          65500                      3                  4   \n",
              "3          24          54400                      3                  8   \n",
              "4          21           9900                      2                  2   \n",
              "\n",
              "   loan_intent  loan_grade  loan_amnt  loan_int_rate  loan_status  \\\n",
              "0            1           1       1000             11            0   \n",
              "1            3           2       5500             12            1   \n",
              "2            3           2      35000             15            1   \n",
              "3            3           2      35000             14            1   \n",
              "4            5           0       2500              7            1   \n",
              "\n",
              "   cb_person_default_on_file  cb_person_cred_hist_length  \n",
              "0                          0                           2  \n",
              "1                          0                           3  \n",
              "2                          0                           2  \n",
              "3                          1                           4  \n",
              "4                          0                           2  "
            ],
            "text/html": [
              "\n",
              "  <div id=\"df-9db40aef-d420-423c-b3ff-0be8eb8d9f69\" class=\"colab-df-container\">\n",
              "    <div>\n",
              "<style scoped>\n",
              "    .dataframe tbody tr th:only-of-type {\n",
              "        vertical-align: middle;\n",
              "    }\n",
              "\n",
              "    .dataframe tbody tr th {\n",
              "        vertical-align: top;\n",
              "    }\n",
              "\n",
              "    .dataframe thead th {\n",
              "        text-align: right;\n",
              "    }\n",
              "</style>\n",
              "<table border=\"1\" class=\"dataframe\">\n",
              "  <thead>\n",
              "    <tr style=\"text-align: right;\">\n",
              "      <th></th>\n",
              "      <th>person_age</th>\n",
              "      <th>person_income</th>\n",
              "      <th>person_home_ownership</th>\n",
              "      <th>person_emp_length</th>\n",
              "      <th>loan_intent</th>\n",
              "      <th>loan_grade</th>\n",
              "      <th>loan_amnt</th>\n",
              "      <th>loan_int_rate</th>\n",
              "      <th>loan_status</th>\n",
              "      <th>cb_person_default_on_file</th>\n",
              "      <th>cb_person_cred_hist_length</th>\n",
              "    </tr>\n",
              "  </thead>\n",
              "  <tbody>\n",
              "    <tr>\n",
              "      <th>0</th>\n",
              "      <td>21</td>\n",
              "      <td>9600</td>\n",
              "      <td>2</td>\n",
              "      <td>5</td>\n",
              "      <td>1</td>\n",
              "      <td>1</td>\n",
              "      <td>1000</td>\n",
              "      <td>11</td>\n",
              "      <td>0</td>\n",
              "      <td>0</td>\n",
              "      <td>2</td>\n",
              "    </tr>\n",
              "    <tr>\n",
              "      <th>1</th>\n",
              "      <td>25</td>\n",
              "      <td>9600</td>\n",
              "      <td>0</td>\n",
              "      <td>1</td>\n",
              "      <td>3</td>\n",
              "      <td>2</td>\n",
              "      <td>5500</td>\n",
              "      <td>12</td>\n",
              "      <td>1</td>\n",
              "      <td>0</td>\n",
              "      <td>3</td>\n",
              "    </tr>\n",
              "    <tr>\n",
              "      <th>2</th>\n",
              "      <td>23</td>\n",
              "      <td>65500</td>\n",
              "      <td>3</td>\n",
              "      <td>4</td>\n",
              "      <td>3</td>\n",
              "      <td>2</td>\n",
              "      <td>35000</td>\n",
              "      <td>15</td>\n",
              "      <td>1</td>\n",
              "      <td>0</td>\n",
              "      <td>2</td>\n",
              "    </tr>\n",
              "    <tr>\n",
              "      <th>3</th>\n",
              "      <td>24</td>\n",
              "      <td>54400</td>\n",
              "      <td>3</td>\n",
              "      <td>8</td>\n",
              "      <td>3</td>\n",
              "      <td>2</td>\n",
              "      <td>35000</td>\n",
              "      <td>14</td>\n",
              "      <td>1</td>\n",
              "      <td>1</td>\n",
              "      <td>4</td>\n",
              "    </tr>\n",
              "    <tr>\n",
              "      <th>4</th>\n",
              "      <td>21</td>\n",
              "      <td>9900</td>\n",
              "      <td>2</td>\n",
              "      <td>2</td>\n",
              "      <td>5</td>\n",
              "      <td>0</td>\n",
              "      <td>2500</td>\n",
              "      <td>7</td>\n",
              "      <td>1</td>\n",
              "      <td>0</td>\n",
              "      <td>2</td>\n",
              "    </tr>\n",
              "  </tbody>\n",
              "</table>\n",
              "</div>\n",
              "    <div class=\"colab-df-buttons\">\n",
              "\n",
              "  <div class=\"colab-df-container\">\n",
              "    <button class=\"colab-df-convert\" onclick=\"convertToInteractive('df-9db40aef-d420-423c-b3ff-0be8eb8d9f69')\"\n",
              "            title=\"Convert this dataframe to an interactive table.\"\n",
              "            style=\"display:none;\">\n",
              "\n",
              "  <svg xmlns=\"http://www.w3.org/2000/svg\" height=\"24px\" viewBox=\"0 -960 960 960\">\n",
              "    <path d=\"M120-120v-720h720v720H120Zm60-500h600v-160H180v160Zm220 220h160v-160H400v160Zm0 220h160v-160H400v160ZM180-400h160v-160H180v160Zm440 0h160v-160H620v160ZM180-180h160v-160H180v160Zm440 0h160v-160H620v160Z\"/>\n",
              "  </svg>\n",
              "    </button>\n",
              "\n",
              "  <style>\n",
              "    .colab-df-container {\n",
              "      display:flex;\n",
              "      gap: 12px;\n",
              "    }\n",
              "\n",
              "    .colab-df-convert {\n",
              "      background-color: #E8F0FE;\n",
              "      border: none;\n",
              "      border-radius: 50%;\n",
              "      cursor: pointer;\n",
              "      display: none;\n",
              "      fill: #1967D2;\n",
              "      height: 32px;\n",
              "      padding: 0 0 0 0;\n",
              "      width: 32px;\n",
              "    }\n",
              "\n",
              "    .colab-df-convert:hover {\n",
              "      background-color: #E2EBFA;\n",
              "      box-shadow: 0px 1px 2px rgba(60, 64, 67, 0.3), 0px 1px 3px 1px rgba(60, 64, 67, 0.15);\n",
              "      fill: #174EA6;\n",
              "    }\n",
              "\n",
              "    .colab-df-buttons div {\n",
              "      margin-bottom: 4px;\n",
              "    }\n",
              "\n",
              "    [theme=dark] .colab-df-convert {\n",
              "      background-color: #3B4455;\n",
              "      fill: #D2E3FC;\n",
              "    }\n",
              "\n",
              "    [theme=dark] .colab-df-convert:hover {\n",
              "      background-color: #434B5C;\n",
              "      box-shadow: 0px 1px 3px 1px rgba(0, 0, 0, 0.15);\n",
              "      filter: drop-shadow(0px 1px 2px rgba(0, 0, 0, 0.3));\n",
              "      fill: #FFFFFF;\n",
              "    }\n",
              "  </style>\n",
              "\n",
              "    <script>\n",
              "      const buttonEl =\n",
              "        document.querySelector('#df-9db40aef-d420-423c-b3ff-0be8eb8d9f69 button.colab-df-convert');\n",
              "      buttonEl.style.display =\n",
              "        google.colab.kernel.accessAllowed ? 'block' : 'none';\n",
              "\n",
              "      async function convertToInteractive(key) {\n",
              "        const element = document.querySelector('#df-9db40aef-d420-423c-b3ff-0be8eb8d9f69');\n",
              "        const dataTable =\n",
              "          await google.colab.kernel.invokeFunction('convertToInteractive',\n",
              "                                                    [key], {});\n",
              "        if (!dataTable) return;\n",
              "\n",
              "        const docLinkHtml = 'Like what you see? Visit the ' +\n",
              "          '<a target=\"_blank\" href=https://colab.research.google.com/notebooks/data_table.ipynb>data table notebook</a>'\n",
              "          + ' to learn more about interactive tables.';\n",
              "        element.innerHTML = '';\n",
              "        dataTable['output_type'] = 'display_data';\n",
              "        await google.colab.output.renderOutput(dataTable, element);\n",
              "        const docLink = document.createElement('div');\n",
              "        docLink.innerHTML = docLinkHtml;\n",
              "        element.appendChild(docLink);\n",
              "      }\n",
              "    </script>\n",
              "  </div>\n",
              "\n",
              "\n",
              "<div id=\"df-63345ec4-862f-4931-917b-bdc8b945cc98\">\n",
              "  <button class=\"colab-df-quickchart\" onclick=\"quickchart('df-63345ec4-862f-4931-917b-bdc8b945cc98')\"\n",
              "            title=\"Suggest charts\"\n",
              "            style=\"display:none;\">\n",
              "\n",
              "<svg xmlns=\"http://www.w3.org/2000/svg\" height=\"24px\"viewBox=\"0 0 24 24\"\n",
              "     width=\"24px\">\n",
              "    <g>\n",
              "        <path d=\"M19 3H5c-1.1 0-2 .9-2 2v14c0 1.1.9 2 2 2h14c1.1 0 2-.9 2-2V5c0-1.1-.9-2-2-2zM9 17H7v-7h2v7zm4 0h-2V7h2v10zm4 0h-2v-4h2v4z\"/>\n",
              "    </g>\n",
              "</svg>\n",
              "  </button>\n",
              "\n",
              "<style>\n",
              "  .colab-df-quickchart {\n",
              "      --bg-color: #E8F0FE;\n",
              "      --fill-color: #1967D2;\n",
              "      --hover-bg-color: #E2EBFA;\n",
              "      --hover-fill-color: #174EA6;\n",
              "      --disabled-fill-color: #AAA;\n",
              "      --disabled-bg-color: #DDD;\n",
              "  }\n",
              "\n",
              "  [theme=dark] .colab-df-quickchart {\n",
              "      --bg-color: #3B4455;\n",
              "      --fill-color: #D2E3FC;\n",
              "      --hover-bg-color: #434B5C;\n",
              "      --hover-fill-color: #FFFFFF;\n",
              "      --disabled-bg-color: #3B4455;\n",
              "      --disabled-fill-color: #666;\n",
              "  }\n",
              "\n",
              "  .colab-df-quickchart {\n",
              "    background-color: var(--bg-color);\n",
              "    border: none;\n",
              "    border-radius: 50%;\n",
              "    cursor: pointer;\n",
              "    display: none;\n",
              "    fill: var(--fill-color);\n",
              "    height: 32px;\n",
              "    padding: 0;\n",
              "    width: 32px;\n",
              "  }\n",
              "\n",
              "  .colab-df-quickchart:hover {\n",
              "    background-color: var(--hover-bg-color);\n",
              "    box-shadow: 0 1px 2px rgba(60, 64, 67, 0.3), 0 1px 3px 1px rgba(60, 64, 67, 0.15);\n",
              "    fill: var(--button-hover-fill-color);\n",
              "  }\n",
              "\n",
              "  .colab-df-quickchart-complete:disabled,\n",
              "  .colab-df-quickchart-complete:disabled:hover {\n",
              "    background-color: var(--disabled-bg-color);\n",
              "    fill: var(--disabled-fill-color);\n",
              "    box-shadow: none;\n",
              "  }\n",
              "\n",
              "  .colab-df-spinner {\n",
              "    border: 2px solid var(--fill-color);\n",
              "    border-color: transparent;\n",
              "    border-bottom-color: var(--fill-color);\n",
              "    animation:\n",
              "      spin 1s steps(1) infinite;\n",
              "  }\n",
              "\n",
              "  @keyframes spin {\n",
              "    0% {\n",
              "      border-color: transparent;\n",
              "      border-bottom-color: var(--fill-color);\n",
              "      border-left-color: var(--fill-color);\n",
              "    }\n",
              "    20% {\n",
              "      border-color: transparent;\n",
              "      border-left-color: var(--fill-color);\n",
              "      border-top-color: var(--fill-color);\n",
              "    }\n",
              "    30% {\n",
              "      border-color: transparent;\n",
              "      border-left-color: var(--fill-color);\n",
              "      border-top-color: var(--fill-color);\n",
              "      border-right-color: var(--fill-color);\n",
              "    }\n",
              "    40% {\n",
              "      border-color: transparent;\n",
              "      border-right-color: var(--fill-color);\n",
              "      border-top-color: var(--fill-color);\n",
              "    }\n",
              "    60% {\n",
              "      border-color: transparent;\n",
              "      border-right-color: var(--fill-color);\n",
              "    }\n",
              "    80% {\n",
              "      border-color: transparent;\n",
              "      border-right-color: var(--fill-color);\n",
              "      border-bottom-color: var(--fill-color);\n",
              "    }\n",
              "    90% {\n",
              "      border-color: transparent;\n",
              "      border-bottom-color: var(--fill-color);\n",
              "    }\n",
              "  }\n",
              "</style>\n",
              "\n",
              "  <script>\n",
              "    async function quickchart(key) {\n",
              "      const quickchartButtonEl =\n",
              "        document.querySelector('#' + key + ' button');\n",
              "      quickchartButtonEl.disabled = true;  // To prevent multiple clicks.\n",
              "      quickchartButtonEl.classList.add('colab-df-spinner');\n",
              "      try {\n",
              "        const charts = await google.colab.kernel.invokeFunction(\n",
              "            'suggestCharts', [key], {});\n",
              "      } catch (error) {\n",
              "        console.error('Error during call to suggestCharts:', error);\n",
              "      }\n",
              "      quickchartButtonEl.classList.remove('colab-df-spinner');\n",
              "      quickchartButtonEl.classList.add('colab-df-quickchart-complete');\n",
              "    }\n",
              "    (() => {\n",
              "      let quickchartButtonEl =\n",
              "        document.querySelector('#df-63345ec4-862f-4931-917b-bdc8b945cc98 button');\n",
              "      quickchartButtonEl.style.display =\n",
              "        google.colab.kernel.accessAllowed ? 'block' : 'none';\n",
              "    })();\n",
              "  </script>\n",
              "</div>\n",
              "\n",
              "    </div>\n",
              "  </div>\n"
            ],
            "application/vnd.google.colaboratory.intrinsic+json": {
              "type": "dataframe",
              "variable_name": "df",
              "summary": "{\n  \"name\": \"df\",\n  \"rows\": 28120,\n  \"fields\": [\n    {\n      \"column\": \"person_age\",\n      \"properties\": {\n        \"dtype\": \"number\",\n        \"std\": 4,\n        \"min\": 20,\n        \"max\": 40,\n        \"num_unique_values\": 21,\n        \"samples\": [\n          21,\n          40,\n          32\n        ],\n        \"semantic_type\": \"\",\n        \"description\": \"\"\n      }\n    },\n    {\n      \"column\": \"person_income\",\n      \"properties\": {\n        \"dtype\": \"number\",\n        \"std\": 27374,\n        \"min\": 4080,\n        \"max\": 141000,\n        \"num_unique_values\": 3576,\n        \"samples\": [\n          44600,\n          34152,\n          101900\n        ],\n        \"semantic_type\": \"\",\n        \"description\": \"\"\n      }\n    },\n    {\n      \"column\": \"person_home_ownership\",\n      \"properties\": {\n        \"dtype\": \"number\",\n        \"std\": 1,\n        \"min\": 0,\n        \"max\": 3,\n        \"num_unique_values\": 4,\n        \"samples\": [\n          0,\n          1,\n          2\n        ],\n        \"semantic_type\": \"\",\n        \"description\": \"\"\n      }\n    },\n    {\n      \"column\": \"person_emp_length\",\n      \"properties\": {\n        \"dtype\": \"number\",\n        \"std\": 3,\n        \"min\": 0,\n        \"max\": 14,\n        \"num_unique_values\": 15,\n        \"samples\": [\n          3,\n          11,\n          5\n        ],\n        \"semantic_type\": \"\",\n        \"description\": \"\"\n      }\n    },\n    {\n      \"column\": \"loan_intent\",\n      \"properties\": {\n        \"dtype\": \"number\",\n        \"std\": 1,\n        \"min\": 0,\n        \"max\": 5,\n        \"num_unique_values\": 6,\n        \"samples\": [\n          1,\n          3,\n          0\n        ],\n        \"semantic_type\": \"\",\n        \"description\": \"\"\n      }\n    },\n    {\n      \"column\": \"loan_grade\",\n      \"properties\": {\n        \"dtype\": \"number\",\n        \"std\": 1,\n        \"min\": 0,\n        \"max\": 6,\n        \"num_unique_values\": 7,\n        \"samples\": [\n          1,\n          2,\n          5\n        ],\n        \"semantic_type\": \"\",\n        \"description\": \"\"\n      }\n    },\n    {\n      \"column\": \"loan_amnt\",\n      \"properties\": {\n        \"dtype\": \"number\",\n        \"std\": 6022,\n        \"min\": 500,\n        \"max\": 35000,\n        \"num_unique_values\": 725,\n        \"samples\": [\n          8100,\n          11125,\n          1125\n        ],\n        \"semantic_type\": \"\",\n        \"description\": \"\"\n      }\n    },\n    {\n      \"column\": \"loan_int_rate\",\n      \"properties\": {\n        \"dtype\": \"number\",\n        \"std\": 3,\n        \"min\": 5,\n        \"max\": 23,\n        \"num_unique_values\": 19,\n        \"samples\": [\n          11,\n          8,\n          9\n        ],\n        \"semantic_type\": \"\",\n        \"description\": \"\"\n      }\n    },\n    {\n      \"column\": \"loan_status\",\n      \"properties\": {\n        \"dtype\": \"number\",\n        \"std\": 0,\n        \"min\": 0,\n        \"max\": 1,\n        \"num_unique_values\": 2,\n        \"samples\": [\n          1,\n          0\n        ],\n        \"semantic_type\": \"\",\n        \"description\": \"\"\n      }\n    },\n    {\n      \"column\": \"cb_person_default_on_file\",\n      \"properties\": {\n        \"dtype\": \"number\",\n        \"std\": 0,\n        \"min\": 0,\n        \"max\": 1,\n        \"num_unique_values\": 2,\n        \"samples\": [\n          1,\n          0\n        ],\n        \"semantic_type\": \"\",\n        \"description\": \"\"\n      }\n    },\n    {\n      \"column\": \"cb_person_cred_hist_length\",\n      \"properties\": {\n        \"dtype\": \"number\",\n        \"std\": 3,\n        \"min\": 2,\n        \"max\": 17,\n        \"num_unique_values\": 16,\n        \"samples\": [\n          2,\n          3\n        ],\n        \"semantic_type\": \"\",\n        \"description\": \"\"\n      }\n    }\n  ]\n}"
            }
          },
          "metadata": {},
          "execution_count": 3
        }
      ],
      "source": [
        "df.head()"
      ]
    },
    {
      "cell_type": "code",
      "execution_count": null,
      "metadata": {
        "colab": {
          "base_uri": "https://localhost:8080/"
        },
        "id": "1ID2ruJ1PKXF",
        "outputId": "342edf04-1edc-489a-e0b1-e138629fb614"
      },
      "outputs": [
        {
          "output_type": "stream",
          "name": "stdout",
          "text": [
            "<class 'pandas.core.frame.DataFrame'>\n",
            "RangeIndex: 28120 entries, 0 to 28119\n",
            "Data columns (total 11 columns):\n",
            " #   Column                      Non-Null Count  Dtype\n",
            "---  ------                      --------------  -----\n",
            " 0   person_age                  28120 non-null  int64\n",
            " 1   person_income               28120 non-null  int64\n",
            " 2   person_home_ownership       28120 non-null  int64\n",
            " 3   person_emp_length           28120 non-null  int64\n",
            " 4   loan_intent                 28120 non-null  int64\n",
            " 5   loan_grade                  28120 non-null  int64\n",
            " 6   loan_amnt                   28120 non-null  int64\n",
            " 7   loan_int_rate               28120 non-null  int64\n",
            " 8   loan_status                 28120 non-null  int64\n",
            " 9   cb_person_default_on_file   28120 non-null  int64\n",
            " 10  cb_person_cred_hist_length  28120 non-null  int64\n",
            "dtypes: int64(11)\n",
            "memory usage: 2.4 MB\n"
          ]
        }
      ],
      "source": [
        "df.info()"
      ]
    },
    {
      "cell_type": "markdown",
      "metadata": {
        "id": "ix01b5EAcB84"
      },
      "source": [
        "**Model Training**"
      ]
    },
    {
      "cell_type": "code",
      "execution_count": null,
      "metadata": {
        "id": "ZSb8FuHX6fl2"
      },
      "outputs": [],
      "source": [
        "#separate the target variable with the other independent features\n",
        "# Resources\n",
        "X = df.drop(columns=['loan_status'], axis=1)\n",
        "\n",
        "# Target variable\n",
        "y = df['loan_status']"
      ]
    },
    {
      "cell_type": "code",
      "execution_count": null,
      "metadata": {
        "colab": {
          "base_uri": "https://localhost:8080/"
        },
        "id": "_wn9Cok47BNh",
        "outputId": "3e76ca7f-dc2d-4eff-ae4a-2f0acf221fcb"
      },
      "outputs": [
        {
          "output_type": "stream",
          "name": "stdout",
          "text": [
            "(28120, 10)\n",
            "(28120,)\n"
          ]
        }
      ],
      "source": [
        "print(X.shape)\n",
        "print(y.shape)"
      ]
    },
    {
      "cell_type": "code",
      "execution_count": null,
      "metadata": {
        "id": "RYI8yZEOWcW0"
      },
      "outputs": [],
      "source": [
        "# Split data into train and test sets\n",
        "X_train, X_test, y_train, y_test = train_test_split(X, y, test_size=0.2, random_state=42)\n"
      ]
    },
    {
      "cell_type": "code",
      "execution_count": null,
      "metadata": {
        "id": "YHNBojYLR863"
      },
      "outputs": [],
      "source": [
        "# Applying SMOTE\n",
        "smote = SMOTE(random_state=42)\n",
        "X_train_smote, y_train_smote = smote.fit_resample(X_train, y_train)\n"
      ]
    },
    {
      "cell_type": "markdown",
      "metadata": {
        "id": "v8RHBeRDq2Is"
      },
      "source": [
        "The dataset was not balanced as class'0' were the majority compared to the class'1'. This imbalance can lead to bais as the model performing well on the majority class compared to the minority class. Therefore employ the use of oversampling technique called 'SMOTE'(sythentic minority over sampling technique.)\n",
        "\n",
        ". When to Use: When oversampling is needed but duplicating the same samples might cause overfitting.\n",
        "\n",
        ". Method: Generates synthetic samples from the minority class by interpolating between existing minority class samples.\n",
        "\n",
        ". Benefit: Reduces the risk of overfitting by creating new, synthetic examples rather than duplicating existing ones.."
      ]
    },
    {
      "cell_type": "code",
      "execution_count": null,
      "metadata": {
        "id": "S8v3-xY8AzhG"
      },
      "outputs": [],
      "source": [
        "# Scaling the features\n",
        "#intializing the standardscalar\n",
        "scaler = StandardScaler()\n",
        "\n",
        "#fitting the scaler to the training data(calculates the mean and std)\n",
        "scaler.fit(X_train_smote)\n",
        "\n",
        "#transforming the training data(Standardizing it)\n",
        "X_train_scaled =scaler.transform(X_train_smote)\n",
        "\n",
        "#X_train_scaled = scaler.fit_transform(X_train_)\n",
        "X_test_scaled = scaler.transform(X_test)\n"
      ]
    },
    {
      "cell_type": "markdown",
      "metadata": {
        "id": "ZO0YNbmWWJrA"
      },
      "source": [
        "Scaling the features using 'standardscalar' involves fitting the scalar on the training data and then transforming both the training and test data.\n",
        "\n",
        "fitting the StandardScaler on the training data '(scaler.fit(X_train))'\n",
        ", it calculates the mean and standard deviation of each feature based on the training data. These statistics are then used to transform both the training and test data. This approach is important for several reasons:\n",
        "\n",
        "\n",
        "\n",
        "1.   Avoid data leakage\n",
        "2.   consistent transformation\n",
        "\n",
        "1.   Realistic transformation\n",
        "\n",
        "\n",
        "\n",
        "\n",
        "\n",
        "\n"
      ]
    },
    {
      "cell_type": "markdown",
      "metadata": {
        "id": "MTfgEe3Os-wK"
      },
      "source": [
        "DecisionTree"
      ]
    },
    {
      "cell_type": "code",
      "execution_count": null,
      "metadata": {
        "colab": {
          "base_uri": "https://localhost:8080/"
        },
        "id": "FIvOl80XDU-I",
        "outputId": "80923145-f57a-4a80-d755-d0fe47e0696d"
      },
      "outputs": [
        {
          "output_type": "stream",
          "name": "stdout",
          "text": [
            "Logistic Regression\n",
            "              precision    recall  f1-score   support\n",
            "\n",
            "           0       0.92      0.75      0.82      4419\n",
            "           1       0.45      0.75      0.56      1205\n",
            "\n",
            "    accuracy                           0.75      5624\n",
            "   macro avg       0.68      0.75      0.69      5624\n",
            "weighted avg       0.82      0.75      0.77      5624\n",
            "\n",
            "Accuracy: 0.7467994310099573\n",
            "...............................................................................................\n",
            "Decision Tree\n",
            "              precision    recall  f1-score   support\n",
            "\n",
            "           0       0.93      0.85      0.89      4419\n",
            "           1       0.58      0.76      0.66      1205\n",
            "\n",
            "    accuracy                           0.83      5624\n",
            "   macro avg       0.76      0.81      0.77      5624\n",
            "weighted avg       0.85      0.83      0.84      5624\n",
            "\n",
            "Accuracy: 0.8319701280227596\n",
            ".....................................................................................................\n",
            "Random Forest\n",
            "              precision    recall  f1-score   support\n",
            "\n",
            "           0       0.93      0.92      0.92      4419\n",
            "           1       0.72      0.75      0.73      1205\n",
            "\n",
            "    accuracy                           0.88      5624\n",
            "   macro avg       0.82      0.83      0.83      5624\n",
            "weighted avg       0.88      0.88      0.88      5624\n",
            "\n",
            "Accuracy: 0.8828236130867709\n",
            "...........................................................................................................\n",
            "Support Vector Machine\n",
            "              precision    recall  f1-score   support\n",
            "\n",
            "           0       0.93      0.84      0.88      4419\n",
            "           1       0.57      0.76      0.65      1205\n",
            "\n",
            "    accuracy                           0.82      5624\n",
            "   macro avg       0.75      0.80      0.77      5624\n",
            "weighted avg       0.85      0.82      0.83      5624\n",
            "\n",
            "Accuracy: 0.8246799431009957\n",
            "...............................................................................................................\n",
            "Gradient Boosting\n",
            "              precision    recall  f1-score   support\n",
            "\n",
            "           0       0.93      0.85      0.89      4419\n",
            "           1       0.59      0.78      0.67      1205\n",
            "\n",
            "    accuracy                           0.83      5624\n",
            "   macro avg       0.76      0.82      0.78      5624\n",
            "weighted avg       0.86      0.83      0.84      5624\n",
            "\n",
            "Accuracy: 0.8349928876244666\n",
            "................................................................................................................\n",
            "K-Nearest Neighbors\n",
            "              precision    recall  f1-score   support\n",
            "\n",
            "           0       0.91      0.82      0.86      4419\n",
            "           1       0.52      0.71      0.60      1205\n",
            "\n",
            "    accuracy                           0.79      5624\n",
            "   macro avg       0.71      0.76      0.73      5624\n",
            "weighted avg       0.83      0.79      0.81      5624\n",
            "\n",
            "Accuracy: 0.7949857752489331\n",
            "...........................................................................................................\n",
            "Naive Bayes\n",
            "              precision    recall  f1-score   support\n",
            "\n",
            "           0       0.90      0.72      0.80      4419\n",
            "           1       0.41      0.71      0.52      1205\n",
            "\n",
            "    accuracy                           0.72      5624\n",
            "   macro avg       0.65      0.71      0.66      5624\n",
            "weighted avg       0.80      0.72      0.74      5624\n",
            "\n",
            "Accuracy: 0.7178165007112376\n"
          ]
        }
      ],
      "source": [
        "# Initialize and train different models\n",
        "\n",
        "# Logistic Regression\n",
        "log_reg = LogisticRegression()\n",
        "log_reg.fit(X_train_scaled, y_train_smote)\n",
        "y_pred_log_reg = log_reg.predict(X_test_scaled)\n",
        "print(\"Logistic Regression\")\n",
        "print(classification_report(y_test, y_pred_log_reg))\n",
        "print(f'Accuracy: {accuracy_score(y_test, y_pred_log_reg)}')\n",
        "print('...............................................................................................')\n",
        "\n",
        "# Decision Tree\n",
        "dt = DecisionTreeClassifier()\n",
        "dt.fit(X_train_scaled, y_train_smote)\n",
        "y_pred_dt = dt.predict(X_test_scaled)\n",
        "print(\"Decision Tree\")\n",
        "print(classification_report(y_test, y_pred_dt))\n",
        "print(f'Accuracy: {accuracy_score(y_test, y_pred_dt)}')\n",
        "print('.....................................................................................................')\n",
        "\n",
        "# Random Forest\n",
        "rf = RandomForestClassifier()\n",
        "rf.fit(X_train_scaled, y_train_smote)\n",
        "y_pred_rf = rf.predict(X_test_scaled)\n",
        "print(\"Random Forest\")\n",
        "print(classification_report(y_test, y_pred_rf))\n",
        "print(f'Accuracy: {accuracy_score(y_test, y_pred_rf)}')\n",
        "print('...........................................................................................................')\n",
        "\n",
        "# Support Vector Machine\n",
        "svm = SVC(probability=True)\n",
        "svm.fit(X_train_scaled, y_train_smote)\n",
        "y_pred_svm = svm.predict(X_test_scaled)\n",
        "print(\"Support Vector Machine\")\n",
        "print(classification_report(y_test, y_pred_svm))\n",
        "print(f'Accuracy: {accuracy_score(y_test, y_pred_svm)}')\n",
        "print('...............................................................................................................')\n",
        "\n",
        "# Gradient Boosting\n",
        "gb = GradientBoostingClassifier()\n",
        "gb.fit(X_train_scaled, y_train_smote)\n",
        "y_pred_gb = gb.predict(X_test_scaled)\n",
        "print(\"Gradient Boosting\")\n",
        "print(classification_report(y_test, y_pred_gb))\n",
        "print(f'Accuracy: {accuracy_score(y_test, y_pred_gb)}')\n",
        "print('................................................................................................................')\n",
        "\n",
        "# K-Nearest Neighbors\n",
        "knn = KNeighborsClassifier()\n",
        "knn.fit(X_train_scaled, y_train_smote)\n",
        "y_pred_knn = knn.predict(X_test_scaled)\n",
        "print(\"K-Nearest Neighbors\")\n",
        "print(classification_report(y_test, y_pred_knn))\n",
        "print(f'Accuracy: {accuracy_score(y_test, y_pred_knn)}')\n",
        "print('...........................................................................................................')\n",
        "\n",
        "# Naive Bayes\n",
        "nb = GaussianNB()\n",
        "nb.fit(X_train_scaled, y_train_smote)\n",
        "y_pred_nb = nb.predict(X_test_scaled)\n",
        "print(\"Naive Bayes\")\n",
        "print(classification_report(y_test, y_pred_nb))\n",
        "print(f'Accuracy: {accuracy_score(y_test, y_pred_nb)}')\n"
      ]
    },
    {
      "cell_type": "markdown",
      "metadata": {
        "id": "TF6u49m70rbN"
      },
      "source": [
        "RandomForest is has an accuracy of approximately 88% which is the best of the models"
      ]
    },
    {
      "cell_type": "markdown",
      "metadata": {
        "id": "ur-ke9OSWwQ7"
      },
      "source": [
        "**Hyperparameter Tuning using GridSearch**"
      ]
    },
    {
      "cell_type": "code",
      "execution_count": null,
      "metadata": {
        "colab": {
          "base_uri": "https://localhost:8080/"
        },
        "id": "K_Y4ufxPWvRq",
        "outputId": "d7f1b269-c8c0-41da-95c7-1f461abb60f6"
      },
      "outputs": [
        {
          "output_type": "stream",
          "name": "stdout",
          "text": [
            "Fitting 5 folds for each of 162 candidates, totalling 810 fits\n",
            "Best parameters found:  {'bootstrap': False, 'max_depth': 30, 'min_samples_leaf': 1, 'min_samples_split': 2, 'n_estimators': 300}\n",
            "Tuned Random Forest\n",
            "              precision    recall  f1-score   support\n",
            "\n",
            "           0       0.93      0.93      0.93      4419\n",
            "           1       0.73      0.74      0.74      1205\n",
            "\n",
            "    accuracy                           0.89      5624\n",
            "   macro avg       0.83      0.83      0.83      5624\n",
            "weighted avg       0.89      0.89      0.89      5624\n",
            "\n",
            "Accuracy: 0.8872688477951636\n"
          ]
        }
      ],
      "source": [
        "from sklearn.model_selection import GridSearchCV\n",
        "from sklearn.ensemble import RandomForestClassifier\n",
        "\n",
        "# Define the parameter grid\n",
        "param_grid = {\n",
        "    'n_estimators': [100, 200, 300],\n",
        "    'max_depth': [10, 20, 30],\n",
        "    'min_samples_split': [2, 5, 10],\n",
        "    'min_samples_leaf': [1, 2, 4],\n",
        "    'bootstrap': [True, False]\n",
        "}\n",
        "\n",
        "# Initialize the Random Forest model\n",
        "rf = RandomForestClassifier()\n",
        "\n",
        "# Initialize GridSearchCV\n",
        "grid_search = GridSearchCV(estimator=rf, param_grid=param_grid,\n",
        "                           cv=5, n_jobs=-1, verbose=2, scoring='accuracy')\n",
        "\n",
        "# Fit the model\n",
        "grid_search.fit(X_train_scaled, y_train_smote)\n",
        "\n",
        "# Best parameters\n",
        "print(\"Best parameters found: \", grid_search.best_params_)\n",
        "\n",
        "# Evaluate the model with the best parameters\n",
        "best_rf = grid_search.best_estimator_\n",
        "y_pred_best_rf = best_rf.predict(X_test_scaled)\n",
        "print(\"Tuned Random Forest\")\n",
        "print(classification_report(y_test, y_pred_best_rf))\n",
        "print(f'Accuracy: {accuracy_score(y_test, y_pred_best_rf)}')\n"
      ]
    },
    {
      "cell_type": "markdown",
      "metadata": {
        "id": "c8TBeUQs3pc4"
      },
      "source": [
        "Used GridSearch hyperparameter to tune the randomforest model(optimise the machine learning model to have an optimal performance) to have an accuracy of about 89%.\n",
        "\n",
        "These parameters were found to be the best combination for your Random Forest model:\n",
        "\n",
        ". bootstrap = False: The model does not use bootstrap sampling, meaning it uses the entire dataset to build each tree.\n",
        "\n",
        ". max_depth = 30: The maximum depth of the trees is 30. This controls the maximum number of splits in each tree.\n",
        "\n",
        ". min_samples_leaf = 1: The minimum number of samples required to be at a leaf node is 1. This allows the trees to grow as deep as possible.\n",
        "\n",
        ". min_samples_split = 2: The minimum number of samples required to split an internal node is 2.\n",
        "\n",
        ".*.*n_estimators** = 300: The number of trees in the forest is 300. More trees generally improve the model's performance up to a point..\n"
      ]
    },
    {
      "cell_type": "markdown",
      "metadata": {
        "id": "5re-RtOE-ch5"
      },
      "source": [
        "explanation of the results:\n",
        "\n",
        "\n",
        "\n",
        "*   Accuracy (0.8881): This means that approximately 88.8% of the predictions made by the model on the test set were correct.\n",
        "*   LPrecision for class 0 (0.93): Out of all the samples that were predicted as class 0, 93% were actually class 0.\n",
        "\n",
        "*   Recall for class 0 (0.93): Out of all the samples that are actually class 0, 93% were correctly identified by the model.\n",
        "*   F1-score for class 0 (0.93): The harmonic mean of precision and recall for class 0, providing a balance between the two.\n",
        "\n",
        "*   Precision for class 1 (0.74): Out of all the samples that were predicted as class 1, 74% were actually class 1.\n",
        "*   Recall for class 1 (0.74): Out of all the samples that are actually class 1, 74% were correctly identified by the model.\n",
        "\n",
        "*   F1-score for class 1 (0.74): The harmonic mean of precision and recall for class 1.\n",
        "*   Macro avg (Precision: 0.83, Recall: 0.84, F1-score: 0.83): The average precision, recall, and f1-score, treating all classes equally.\n",
        "\n",
        "*   Weighted avg (Precision: 0.89, Recall: 0.89, F1-score: 0.89): The average precision, recall, and f1-score, weighted by the number of samples in each class.\n",
        "*   List item\n",
        "\n",
        "\n",
        "\n",
        "\n",
        "\n",
        "\n",
        "\n",
        "\n"
      ]
    },
    {
      "cell_type": "markdown",
      "metadata": {
        "id": "IQpAS2di9r57"
      },
      "source": [
        "**Feature importance Analysis**"
      ]
    },
    {
      "cell_type": "markdown",
      "metadata": {
        "id": "5rnNjfsMp5k1"
      },
      "source": [
        "Analyze the importance of each feature in the Random Forest model to understand which features are contributing the most to predictions."
      ]
    },
    {
      "cell_type": "code",
      "execution_count": null,
      "metadata": {
        "colab": {
          "base_uri": "https://localhost:8080/",
          "height": 748
        },
        "id": "ZWwwisg99z5K",
        "outputId": "2dece4f1-3b2c-475a-f1d1-20b7047f1238"
      },
      "outputs": [
        {
          "output_type": "stream",
          "name": "stdout",
          "text": [
            "                      Feature  Importance\n",
            "1               person_income    0.274913\n",
            "6                   loan_amnt    0.183667\n",
            "7               loan_int_rate    0.093111\n",
            "4                 loan_intent    0.090006\n",
            "5                  loan_grade    0.088171\n",
            "2       person_home_ownership    0.082013\n",
            "3           person_emp_length    0.066085\n",
            "0                  person_age    0.060071\n",
            "9  cb_person_cred_hist_length    0.047822\n",
            "8   cb_person_default_on_file    0.014141\n"
          ]
        },
        {
          "output_type": "display_data",
          "data": {
            "text/plain": [
              "<Figure size 900x600 with 1 Axes>"
            ],
            "image/png": "[encoded data removed]"
          },
          "metadata": {}
        }
      ],
      "source": [
        "import pandas as pd\n",
        "import matplotlib.pyplot as plt\n",
        "\n",
        "# Get feature importances from the best model\n",
        "importances = best_rf.feature_importances_\n",
        "features = X.columns\n",
        "\n",
        "# Create a DataFrame for feature importances\n",
        "feature_importances = pd.DataFrame({'Feature': features, 'Importance': importances})\n",
        "\n",
        "# Sort the DataFrame by importance\n",
        "feature_importances = feature_importances.sort_values(by='Importance', ascending=False)\n",
        "\n",
        "# Print the feature importances\n",
        "print(feature_importances)\n",
        "\n",
        "# Plot feature importances\n",
        "plt.figure(figsize=(9, 6))\n",
        "plt.title('Feature Importance')\n",
        "plt.barh(feature_importances['Feature'], feature_importances['Importance'])\n",
        "plt.gca().invert_yaxis()\n",
        "plt.show()\n"
      ]
    },
    {
      "cell_type": "markdown",
      "metadata": {
        "id": "OC6So2G2-FtZ"
      },
      "source": [
        "**Cross Validation**"
      ]
    },
    {
      "cell_type": "code",
      "execution_count": null,
      "metadata": {
        "id": "A_06dgOf-EBT",
        "colab": {
          "base_uri": "https://localhost:8080/"
        },
        "outputId": "922ce1bf-e604-4835-f6db-03e13a063b88"
      },
      "outputs": [
        {
          "output_type": "stream",
          "name": "stdout",
          "text": [
            "Cross-validation scores: [0.87770609 0.90681004 0.92973903 0.91955836 0.92486378]\n",
            "Mean cross-validation score: 0.9117354598184964\n"
          ]
        }
      ],
      "source": [
        "from sklearn.model_selection import cross_val_score\n",
        "\n",
        "# Perform cross-validation\n",
        "cv_scores = cross_val_score(best_rf, X_train_scaled, y_train_smote, cv=5, scoring='accuracy')\n",
        "\n",
        "print(f'Cross-validation scores: {cv_scores}')\n",
        "print(f'Mean cross-validation score: {cv_scores.mean()}')\n"
      ]
    },
    {
      "cell_type": "markdown",
      "metadata": {
        "id": "r2hPQWnFJKvx"
      },
      "source": [
        "Cross-validation is a technique used to evaluate the performance and generalizability of a machine learning model. By splitting the dataset into multiple folds, it helps ensure that the model's performance is not overly dependent on any single subset of the data."
      ]
    },
    {
      "cell_type": "markdown",
      "metadata": {
        "id": "-eLK_1UB-bN9"
      },
      "source": [
        "**Model Evaluation**"
      ]
    },
    {
      "cell_type": "markdown",
      "metadata": {
        "id": "9qyJsQ6mqICs"
      },
      "source": [
        "To ensure that the model performs well across different subsets of the data, perform cross-validation."
      ]
    },
    {
      "cell_type": "code",
      "source": [
        "from sklearn.metrics import confusion_matrix, roc_auc_score, roc_curve, precision_recall_curve\n",
        "import matplotlib.pyplot as plt\n",
        "import seaborn as sns\n",
        "\n",
        "# Confusion Matrix\n",
        "conf_matrix = confusion_matrix(y_test, y_pred_best_rf)\n",
        "plt.figure(figsize=(9, 6))\n",
        "sns.heatmap(conf_matrix, annot=True, fmt='d', cmap='Blues')\n",
        "plt.title('Confusion Matrix')\n",
        "plt.xlabel('Predicted')\n",
        "plt.ylabel('Actual')\n",
        "plt.show()\n",
        "\n",
        "# ROC Curve and AUC Score\n",
        "y_proba = best_rf.predict_proba(X_test_scaled)[:, 1]\n",
        "roc_auc = roc_auc_score(y_test, y_proba)\n",
        "fpr, tpr, _ = roc_curve(y_test, y_proba)\n",
        "plt.figure(figsize=(9,6))\n",
        "plt.plot(fpr, tpr, label=f'ROC Curve (AUC = {roc_auc:.2f})')\n",
        "plt.plot([0, 1], [0, 1], 'k--')\n",
        "plt.xlabel('False Positive Rate')\n",
        "plt.ylabel('True Positive Rate')\n",
        "plt.title('Receiver Operating Characteristic (ROC) Curve')\n",
        "plt.legend(loc='lower right')\n",
        "plt.show()\n",
        "\n",
        "# Precision-Recall Curve\n",
        "precision, recall, _ = precision_recall_curve(y_test, y_proba)\n",
        "plt.figure(figsize=(9,6))\n",
        "plt.plot(recall, precision, label='Precision-Recall Curve')\n",
        "plt.xlabel('Recall')\n",
        "plt.ylabel('Precision')\n",
        "plt.title('Precision-Recall Curve')\n",
        "plt.legend(loc='lower left')\n",
        "plt.show()\n"
      ],
      "metadata": {
        "colab": {
          "base_uri": "https://localhost:8080/",
          "height": 1000
        },
        "id": "b0yjodmVA7YB",
        "outputId": "5c7f4043-4055-48a9-e494-53be3d36171f"
      },
      "execution_count": null,
      "outputs": [
        {
          "output_type": "display_data",
          "data": {
            "text/plain": [
              "<Figure size 900x600 with 2 Axes>"
            ],
            "image/png": "[encoded data removed]"
          },
          "metadata": {}
        },
        {
          "output_type": "display_data",
          "data": {
            "text/plain": [
              "<Figure size 900x600 with 1 Axes>"
            ],
            "image/png": "[encoded data removed]"
          },
          "metadata": {}
        },
        {
          "output_type": "display_data",
          "data": {
            "text/plain": [
              "<Figure size 900x600 with 1 Axes>"
            ],
            "image/png": "[encoded data removed]"
          },
          "metadata": {}
        }
      ]
    },
    {
      "cell_type": "code",
      "source": [],
      "metadata": {
        "id": "1mPyGKMyA7LS"
      },
      "execution_count": null,
      "outputs": []
    },
    {
      "cell_type": "code",
      "source": [],
      "metadata": {
        "id": "bTFPTnAWA6N8"
      },
      "execution_count": null,
      "outputs": []
    },
    {
      "cell_type": "code",
      "execution_count": null,
      "metadata": {
        "id": "tOMc-8xq_fyy"
      },
      "outputs": [],
      "source": [
        "from sklearn.metrics import confusion_matrix, roc_auc_score, roc_curve, precision_recall_curve\n",
        "import matplotlib.pyplot as plt\n",
        "import seaborn as sns\n",
        "\n",
        "# Confusion Matrix\n",
        "conf_matrix = confusion_matrix(y_test, y_pred)\n",
        "plt.figure(figsize=(9, 6))\n",
        "sns.heatmap(conf_matrix, annot=True, fmt='d', cmap='Blues')\n",
        "plt.title('Confusion Matrix')\n",
        "plt.xlabel('Predicted')\n",
        "plt.ylabel('Actual')\n",
        "plt.show()\n",
        "\n",
        "# ROC Curve and AUC Score\n",
        "y_proba = best_rf.predict_proba(X_test_scaled)[:, 1]\n",
        "roc_auc = roc_auc_score(y_test, y_proba)\n",
        "fpr, tpr, _ = roc_curve(y_test, y_proba)\n",
        "plt.figure(figsize=(9,6))\n",
        "plt.plot(fpr, tpr, label=f'ROC Curve (AUC = {roc_auc:.2f})')\n",
        "plt.plot([0, 1], [0, 1], 'k--')\n",
        "plt.xlabel('False Positive Rate')\n",
        "plt.ylabel('True Positive Rate')\n",
        "plt.title('Receiver Operating Characteristic (ROC) Curve')\n",
        "plt.legend(loc='lower right')\n",
        "plt.show()\n",
        "\n",
        "# Precision-Recall Curve\n",
        "precision, recall, _ = precision_recall_curve(y_test, y_proba)\n",
        "plt.figure(figsize=(9,6))\n",
        "plt.plot(recall, precision, label='Precision-Recall Curve')\n",
        "plt.xlabel('Recall')\n",
        "plt.ylabel('Precision')\n",
        "plt.title('Precision-Recall Curve')\n",
        "plt.legend(loc='lower left')\n",
        "plt.show()\n"
      ]
    },
    {
      "cell_type": "markdown",
      "metadata": {
        "id": "jgTYfVdNUI1V"
      },
      "source": [
        "Confusion Matrix: The model has a good balance between true positives and true negatives, but there's still a significant number of false\n",
        "positives and false negatives.\n",
        "\n",
        "Precision-Recall Curve: The curve shows the model maintains high precision until recall reaches around 0.8, after which precision drops.\n",
        "\n",
        "ROC Curve: The high AUC of 0.92 indicates the model has a strong ability to distinguish between classes."
      ]
    },
    {
      "cell_type": "code",
      "source": [
        "from sklearn.metrics import confusion_matrix, classification_report\n",
        "\n",
        "# Get predicted probabilities\n",
        "y_probs = best_rf.predict_proba(X_test_scaled)[:, 1]\n",
        "\n",
        "# Adjust the threshold\n",
        "threshold = 0.6\n",
        "y_pred_threshold = (y_probs >= threshold).astype(int)\n",
        "\n",
        "# Evaluate with the new threshold\n",
        "print(confusion_matrix(y_test, y_pred_threshold))\n",
        "print(classification_report(y_test, y_pred_threshold))\n"
      ],
      "metadata": {
        "colab": {
          "base_uri": "https://localhost:8080/"
        },
        "id": "NRR4NcAJC7eo",
        "outputId": "55168a7e-bba3-4e0a-c719-e08c299d7dd8"
      },
      "execution_count": null,
      "outputs": [
        {
          "output_type": "stream",
          "name": "stdout",
          "text": [
            "[[4215  204]\n",
            " [ 349  856]]\n",
            "              precision    recall  f1-score   support\n",
            "\n",
            "           0       0.92      0.95      0.94      4419\n",
            "           1       0.81      0.71      0.76      1205\n",
            "\n",
            "    accuracy                           0.90      5624\n",
            "   macro avg       0.87      0.83      0.85      5624\n",
            "weighted avg       0.90      0.90      0.90      5624\n",
            "\n"
          ]
        }
      ]
    },
    {
      "cell_type": "markdown",
      "metadata": {
        "id": "I6QPD3c8Cl0c"
      },
      "source": [
        "saving the model:"
      ]
    },
    {
      "cell_type": "code",
      "execution_count": null,
      "metadata": {
        "id": "ZG9bOf5iClNW",
        "colab": {
          "base_uri": "https://localhost:8080/"
        },
        "outputId": "289e540b-21d5-4b96-f977-d46b06def1ba"
      },
      "outputs": [
        {
          "output_type": "execute_result",
          "data": {
            "text/plain": [
              "['final_tuned_random_forest_model.pkl']"
            ]
          },
          "metadata": {},
          "execution_count": 20
        }
      ],
      "source": [
        "import joblib\n",
        "\n",
        "# Save the final model to a file\n",
        "joblib.dump(best_rf, 'final_tuned_random_forest_model.pkl')\n"
      ]
    },
    {
      "cell_type": "markdown",
      "source": [
        "Downloading the save model to local machine"
      ],
      "metadata": {
        "id": "Bdg7ld0qmouF"
      }
    },
    {
      "cell_type": "code",
      "source": [
        "import joblib\n",
        "\n",
        "# Assuming `best_rf` is your trained model\n",
        "joblib.dump(best_rf, 'final_tuned_random_forest_model.pkl')\n"
      ],
      "metadata": {
        "colab": {
          "base_uri": "https://localhost:8080/"
        },
        "id": "JIcaNpTnn_KA",
        "outputId": "84e5ba0d-fc4d-4522-a0e0-8dd46d4de7b7"
      },
      "execution_count": null,
      "outputs": [
        {
          "output_type": "execute_result",
          "data": {
            "text/plain": [
              "['final_tuned_random_forest_model.pkl']"
            ]
          },
          "metadata": {},
          "execution_count": 23
        }
      ]
    },
    {
      "cell_type": "code",
      "source": [
        "from google.colab import files\n",
        "\n",
        "# Download the saved model file\n",
        "files.download('final_tuned_random_forest_model.pkl')\n"
      ],
      "metadata": {
        "id": "quk8LQSDoXDe",
        "outputId": "9fac1445-2750-49b3-ea89-9db57a44f974",
        "colab": {
          "base_uri": "https://localhost:8080/",
          "height": 34
        }
      },
      "execution_count": null,
      "outputs": [
        {
          "output_type": "display_data",
          "data": {
            "text/plain": [
              "<IPython.core.display.Javascript object>"
            ],
            "application/javascript": [
              "\n",
              "    async function download(id, filename, size) {\n",
              "      if (!google.colab.kernel.accessAllowed) {\n",
              "        return;\n",
              "      }\n",
              "      const div = document.createElement('div');\n",
              "      const label = document.createElement('label');\n",
              "      label.textContent = `Downloading \"${filename}\": `;\n",
              "      div.appendChild(label);\n",
              "      const progress = document.createElement('progress');\n",
              "      progress.max = size;\n",
              "      div.appendChild(progress);\n",
              "      document.body.appendChild(div);\n",
              "\n",
              "      const buffers = [];\n",
              "      let downloaded = 0;\n",
              "\n",
              "      const channel = await google.colab.kernel.comms.open(id);\n",
              "      // Send a message to notify the kernel that we're ready.\n",
              "      channel.send({})\n",
              "\n",
              "      for await (const message of channel.messages) {\n",
              "        // Send a message to notify the kernel that we're ready.\n",
              "        channel.send({})\n",
              "        if (message.buffers) {\n",
              "          for (const buffer of message.buffers) {\n",
              "            buffers.push(buffer);\n",
              "            downloaded += buffer.byteLength;\n",
              "            progress.value = downloaded;\n",
              "          }\n",
              "        }\n",
              "      }\n",
              "      const blob = new Blob(buffers, {type: 'application/binary'});\n",
              "      const a = document.createElement('a');\n",
              "      a.href = window.URL.createObjectURL(blob);\n",
              "      a.download = filename;\n",
              "      div.appendChild(a);\n",
              "      a.click();\n",
              "      div.remove();\n",
              "    }\n",
              "  "
            ]
          },
          "metadata": {}
        },
        {
          "output_type": "display_data",
          "data": {
            "text/plain": [
              "<IPython.core.display.Javascript object>"
            ],
            "application/javascript": [
              "download(\"download_78228e73-f4a5-4f40-9ba6-4ad067a49763\", \"final_tuned_random_forest_model.pkl\", 264990089)"
            ]
          },
          "metadata": {}
        }
      ]
    }
  ],
  "metadata": {
    "colab": {
      "provenance": []
    },
    "kernelspec": {
      "display_name": "Python 3",
      "name": "python3"
    },
    "language_info": {
      "name": "python"
    }
  },
  "nbformat": 4,
  "nbformat_minor": 0
}